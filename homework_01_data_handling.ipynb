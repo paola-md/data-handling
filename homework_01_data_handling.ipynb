{
  "nbformat": 4,
  "nbformat_minor": 0,
  "metadata": {
    "colab": {
      "name": "homework-01-data-handling.ipynb",
      "provenance": [],
      "collapsed_sections": [],
      "toc_visible": true
    },
    "kernelspec": {
      "name": "python3",
      "display_name": "Python 3"
    }
  },
  "cells": [
    {
      "cell_type": "markdown",
      "metadata": {
        "id": "A_78GAiyPgm0"
      },
      "source": [
        "# **Homework 1** | Data handling\r\n"
      ]
    },
    {
      "cell_type": "code",
      "metadata": {
        "id": "l3LeBj5eyf95"
      },
      "source": [
        "# Load libraries\r\n",
        "import os\r\n",
        "import numpy as np\r\n",
        "import pandas as pd\r\n",
        "import seaborn as sns\r\n",
        "import scipy.stats as stats\r\n",
        "import matplotlib.pyplot as plt\r\n",
        "\r\n",
        "from google.colab import drive"
      ],
      "execution_count": 189,
      "outputs": []
    },
    {
      "cell_type": "markdown",
      "metadata": {
        "id": "R7lwkEQQPrnE"
      },
      "source": [
        "#### Colab utils\r\n",
        "If you want to use colab for homework 1, these commands are useful"
      ]
    },
    {
      "cell_type": "code",
      "metadata": {
        "colab": {
          "base_uri": "https://localhost:8080/"
        },
        "id": "IgQcuyXsrwVI",
        "outputId": "8e3a2e88-9748-49c6-d98e-28d3b03e19c0"
      },
      "source": [
        "# Mount drive to access and save files in your own drive.\r\n",
        "drive.mount('/content/drive/', force_remount=True)"
      ],
      "execution_count": 190,
      "outputs": [
        {
          "output_type": "stream",
          "text": [
            "Mounted at /content/drive/\n"
          ],
          "name": "stdout"
        }
      ]
    },
    {
      "cell_type": "code",
      "metadata": {
        "id": "NI765lBOsSFZ"
      },
      "source": [
        "# Create class folder and move to folder\r\n",
        "os.chdir(\"/content/drive/MyDrive/\")\r\n",
        "#!mkdir ML4BD\r\n",
        "os.chdir(\"/content/drive/MyDrive/ML4BD\")"
      ],
      "execution_count": 191,
      "outputs": []
    },
    {
      "cell_type": "markdown",
      "metadata": {
        "id": "dK3CE0UERbSA"
      },
      "source": [
        "## **Question 1** | Data retrival\r\n",
        "\r\n",
        "For this exercise, we will be using the [census income data set](https://archive.ics.uci.edu/ml/datasets/census+income). To retrieve information we will use Unix shell comm\r\n",
        "\r\n",
        "Advantages of using the Unix shell:\r\n",
        "1. **Updating data**: Most of the times, behavioral data is dynamic and it is likely to be updated. Creating a shell script as the first step of the pipeline, allows us to automatically load and process the updated versions of the data.\r\n",
        "2. **Memory efficency**: Behavioral data can be very large and some libraries can run out memory. Through bash it is possible to process the data without reading the entire file into memory.\r\n",
        "\r\n",
        "[Learn more about Shell](http://swcarpentry.github.io/shell-novice/)\r\n",
        "\r\n",
        "To run shell commands, add an explamation mark before the instruction.\r\n",
        "\r\n",
        "Anything appearing after ``!`` on a line will be executed not by the Python kernel, but by the system command-line.\r\n",
        "\r\n",
        "```\r\n",
        "! command\r\n",
        "```\r\n",
        "\r\n",
        "\r\n",
        "\r\n",
        " "
      ]
    },
    {
      "cell_type": "markdown",
      "metadata": {
        "id": "b13G0WkoW96e"
      },
      "source": [
        "### **Question 1 | Part A: Extract data**\r\n",
        "Download the data: adult.data and the column names: adult.names from https://archive.ics.uci.edu/ml/machine-learning-databases/census-income-mld/ using Unix commands only.\r\n",
        "\r\n",
        "Create a folder called data and move the files to the folder data. "
      ]
    },
    {
      "cell_type": "code",
      "metadata": {
        "colab": {
          "base_uri": "https://localhost:8080/"
        },
        "id": "0L06zRCCXN7z",
        "outputId": "00795816-98fb-4e99-db22-5deec30d4c5e"
      },
      "source": [
        "# Download data adult.data\r\n",
        "!wget 'https://archive.ics.uci.edu/ml/machine-learning-databases/adult/adult.data'\r\n",
        "\r\n",
        "# Download column names adult.names\r\n",
        "!wget 'https://archive.ics.uci.edu/ml/machine-learning-databases/adult/adult.names'\r\n",
        "\r\n",
        "# Create data directory\r\n",
        "#! mkdir data\r\n",
        "\r\n",
        "# Move data file (census-income.data) and column names (census-income.names) to data directory\r\n",
        "# Try using one command only (globbing)\r\n",
        "! mv adult.* data\r\n",
        "\r\n",
        "# Check that file is in folder \r\n",
        "!ls data"
      ],
      "execution_count": 192,
      "outputs": [
        {
          "output_type": "stream",
          "text": [
            "--2021-02-17 13:18:32--  https://archive.ics.uci.edu/ml/machine-learning-databases/adult/adult.data\n",
            "Resolving archive.ics.uci.edu (archive.ics.uci.edu)... 128.195.10.252\n",
            "Connecting to archive.ics.uci.edu (archive.ics.uci.edu)|128.195.10.252|:443... connected.\n",
            "HTTP request sent, awaiting response... 200 OK\n",
            "Length: 3974305 (3.8M) [application/x-httpd-php]\n",
            "Saving to: ‘adult.data’\n",
            "\n",
            "adult.data          100%[===================>]   3.79M  6.43MB/s    in 0.6s    \n",
            "\n",
            "2021-02-17 13:18:33 (6.43 MB/s) - ‘adult.data’ saved [3974305/3974305]\n",
            "\n",
            "--2021-02-17 13:18:33--  https://archive.ics.uci.edu/ml/machine-learning-databases/adult/adult.names\n",
            "Resolving archive.ics.uci.edu (archive.ics.uci.edu)... 128.195.10.252\n",
            "Connecting to archive.ics.uci.edu (archive.ics.uci.edu)|128.195.10.252|:443... connected.\n",
            "HTTP request sent, awaiting response... 200 OK\n",
            "Length: 5229 (5.1K) [application/x-httpd-php]\n",
            "Saving to: ‘adult.names’\n",
            "\n",
            "adult.names         100%[===================>]   5.11K  --.-KB/s    in 0s      \n",
            "\n",
            "2021-02-17 13:18:34 (74.6 MB/s) - ‘adult.names’ saved [5229/5229]\n",
            "\n",
            "adult.data    adult.names    census-income.data\n",
            "adult.data.1  adult.names.1  census-income.names\n"
          ],
          "name": "stdout"
        }
      ]
    },
    {
      "cell_type": "markdown",
      "metadata": {
        "id": "2XfSZCUrfW0g"
      },
      "source": [
        "### **Question 1 | Part B**\r\n",
        "Visualize the column names in data/adult.names. (from line 97 to line 111)"
      ]
    },
    {
      "cell_type": "code",
      "metadata": {
        "colab": {
          "base_uri": "https://localhost:8080/"
        },
        "id": "hQ8M1Bome6OE",
        "outputId": "d56eabb9-71a4-42f9-d4ab-a727e64d33d2"
      },
      "source": [
        "# show content of data/adult.names\r\n",
        "! sed -n 97,111p  data/adult.names "
      ],
      "execution_count": 201,
      "outputs": [
        {
          "output_type": "stream",
          "text": [
            "age: continuous.\n",
            "workclass: Private, Self-emp-not-inc, Self-emp-inc, Federal-gov, Local-gov, State-gov, Without-pay, Never-worked.\n",
            "fnlwgt: continuous.\n",
            "education: Bachelors, Some-college, 11th, HS-grad, Prof-school, Assoc-acdm, Assoc-voc, 9th, 7th-8th, 12th, Masters, 1st-4th, 10th, Doctorate, 5th-6th, Preschool.\n",
            "education-num: continuous.\n",
            "marital-status: Married-civ-spouse, Divorced, Never-married, Separated, Widowed, Married-spouse-absent, Married-AF-spouse.\n",
            "occupation: Tech-support, Craft-repair, Other-service, Sales, Exec-managerial, Prof-specialty, Handlers-cleaners, Machine-op-inspct, Adm-clerical, Farming-fishing, Transport-moving, Priv-house-serv, Protective-serv, Armed-Forces.\n",
            "relationship: Wife, Own-child, Husband, Not-in-family, Other-relative, Unmarried.\n",
            "race: White, Asian-Pac-Islander, Amer-Indian-Eskimo, Other, Black.\n",
            "sex: Female, Male.\n",
            "capital-gain: continuous.\n",
            "capital-loss: continuous.\n",
            "hours-per-week: continuous.\n",
            "native-country: United-States, Cambodia, England, Puerto-Rico, Canada, Germany, Outlying-US(Guam-USVI-etc), India, Japan, Greece, South, China, Cuba, Iran, Honduras, Philippines, Italy, Poland, Jamaica, Vietnam, Mexico, Portugal, Ireland, France, Dominican-Republic, Laos, Ecuador, Taiwan, Haiti, Columbia, Hungary, Guatemala, Nicaragua, Scotland, Thailand, Yugoslavia, El-Salvador, Trinadad&Tobago, Peru, Hong, Holand-Netherlands.\n"
          ],
          "name": "stdout"
        }
      ]
    },
    {
      "cell_type": "markdown",
      "metadata": {
        "id": "qAwzqPhs1K2f"
      },
      "source": [
        "## **Question 2** | Differences in samples\r\n"
      ]
    },
    {
      "cell_type": "markdown",
      "metadata": {
        "id": "Bi_yp9ypeb-q"
      },
      "source": [
        "### **Question 2 | Part A**: Create sample\r\n",
        "\r\n",
        "In this exercise we will examine the effects of using samples instead of the entire dataset. \r\n",
        "\r\n",
        "As seen above, the first variable of the census is age, extract only the first column (age) and create three samples:\r\n",
        "1. All the observations (data_complete)\r\n",
        "2. The first 100 age observations (data_first)\r\n",
        "3. A random sample of 100 observations (data_random)\r\n",
        "\r\n",
        "\r\n",
        "It is possible to store results from shell queries as variables. For example: \r\n",
        "```\r\n",
        "variable = ! cat data/adult.data \r\n",
        "```\r\n",
        "\r\n",
        "Tip: awk can be used to extract a specific column \r\n"
      ]
    },
    {
      "cell_type": "code",
      "metadata": {
        "id": "rIMnqiK7ivBd"
      },
      "source": [
        "# All the observations for age \r\n",
        "data_complete =  !awk -F\",\" '{print $1}' data/adult.data  |\\\r\n",
        "                 head -n -1 \r\n",
        "\r\n",
        "# First 100 observations for age \r\n",
        "data_first = !awk -F\",\" '{print $1}' data/adult.data |\\\r\n",
        "             head -n 100 \r\n",
        "\r\n",
        "# Random sample of 100 observations for age excluding the first 100 observations\r\n",
        "data_random  = !awk -F\",\" '{ print $1 }' data/adult.data |\\\r\n",
        "                 tail -n +10  | \\\r\n",
        "                 shuf -n 100 "
      ],
      "execution_count": 281,
      "outputs": []
    },
    {
      "cell_type": "markdown",
      "metadata": {
        "id": "jzFeiaAQ0nTd"
      },
      "source": [
        "### **Question 2 | Part B**: Explore samples\r\n",
        "\r\n",
        "**2.B.1** Calculate the mean, median, number of observations and standard deviation fall for each sample."
      ]
    },
    {
      "cell_type": "code",
      "metadata": {
        "id": "JUvXEsCdtA6n"
      },
      "source": [
        "data_complete  = np.array(data_complete, dtype = np.float)\r\n",
        "data_first  = np.array(data_first, dtype = np.float)\r\n",
        "data_random = np.array(data_random, dtype = np.float)\r\n",
        "\r\n",
        "df = pd.DataFrame({'value': np.concatenate([data_complete, data_first, data_random]),\r\n",
        "                   'sample': ['complete']*len(data_complete) +\r\n",
        "                              ['first']*len(data_first) + \r\n",
        "                              ['random']*len(data_random) \r\n",
        "})"
      ],
      "execution_count": 282,
      "outputs": []
    },
    {
      "cell_type": "code",
      "metadata": {
        "colab": {
          "base_uri": "https://localhost:8080/",
          "height": 204
        },
        "id": "JzM25Y8cs6pX",
        "outputId": "2ceb10b5-2ac2-4bab-85de-6c399de5a5ce"
      },
      "source": [
        "# Calcluate stats per group \r\n",
        "df.groupby(['sample']).agg(['mean', 'median', 'count', 'std'])"
      ],
      "execution_count": 283,
      "outputs": [
        {
          "output_type": "execute_result",
          "data": {
            "text/html": [
              "<div>\n",
              "<style scoped>\n",
              "    .dataframe tbody tr th:only-of-type {\n",
              "        vertical-align: middle;\n",
              "    }\n",
              "\n",
              "    .dataframe tbody tr th {\n",
              "        vertical-align: top;\n",
              "    }\n",
              "\n",
              "    .dataframe thead tr th {\n",
              "        text-align: left;\n",
              "    }\n",
              "\n",
              "    .dataframe thead tr:last-of-type th {\n",
              "        text-align: right;\n",
              "    }\n",
              "</style>\n",
              "<table border=\"1\" class=\"dataframe\">\n",
              "  <thead>\n",
              "    <tr>\n",
              "      <th></th>\n",
              "      <th colspan=\"4\" halign=\"left\">value</th>\n",
              "    </tr>\n",
              "    <tr>\n",
              "      <th></th>\n",
              "      <th>mean</th>\n",
              "      <th>median</th>\n",
              "      <th>count</th>\n",
              "      <th>std</th>\n",
              "    </tr>\n",
              "    <tr>\n",
              "      <th>sample</th>\n",
              "      <th></th>\n",
              "      <th></th>\n",
              "      <th></th>\n",
              "      <th></th>\n",
              "    </tr>\n",
              "  </thead>\n",
              "  <tbody>\n",
              "    <tr>\n",
              "      <th>complete</th>\n",
              "      <td>38.581647</td>\n",
              "      <td>37.0</td>\n",
              "      <td>32561</td>\n",
              "      <td>13.640433</td>\n",
              "    </tr>\n",
              "    <tr>\n",
              "      <th>first</th>\n",
              "      <td>38.390000</td>\n",
              "      <td>37.5</td>\n",
              "      <td>100</td>\n",
              "      <td>12.198605</td>\n",
              "    </tr>\n",
              "    <tr>\n",
              "      <th>random</th>\n",
              "      <td>39.210000</td>\n",
              "      <td>38.5</td>\n",
              "      <td>100</td>\n",
              "      <td>13.910460</td>\n",
              "    </tr>\n",
              "  </tbody>\n",
              "</table>\n",
              "</div>"
            ],
            "text/plain": [
              "              value                         \n",
              "               mean median  count        std\n",
              "sample                                      \n",
              "complete  38.581647   37.0  32561  13.640433\n",
              "first     38.390000   37.5    100  12.198605\n",
              "random    39.210000   38.5    100  13.910460"
            ]
          },
          "metadata": {
            "tags": []
          },
          "execution_count": 283
        }
      ]
    },
    {
      "cell_type": "markdown",
      "metadata": {
        "id": "Ezq0LtBb1nhI"
      },
      "source": [
        "**2.B.2** Create a boxplot comparing the three samples"
      ]
    },
    {
      "cell_type": "code",
      "metadata": {
        "colab": {
          "base_uri": "https://localhost:8080/",
          "height": 279
        },
        "id": "BUk_ItyQscZZ",
        "outputId": "825b9414-5f6d-4f35-8892-5f07f453c797"
      },
      "source": [
        "# Boxplot per group \r\n",
        "ax = sns.boxplot(x=\"sample\", y=\"value\", data=df, palette=\"Set3\")"
      ],
      "execution_count": 284,
      "outputs": [
        {
          "output_type": "display_data",
          "data": {
            "image/png": "[encoded data removed]",
            "text/plain": [
              "<Figure size 432x288 with 1 Axes>"
            ]
          },
          "metadata": {
            "tags": [],
            "needs_background": "light"
          }
        }
      ]
    },
    {
      "cell_type": "markdown",
      "metadata": {
        "id": "b4lpKe4V1u7R"
      },
      "source": [
        "**2.B.3** Interpret your results"
      ]
    },
    {
      "cell_type": "markdown",
      "metadata": {
        "id": "DzLqT7-314t8"
      },
      "source": [
        ""
      ]
    },
    {
      "cell_type": "markdown",
      "metadata": {
        "id": "9yydcFEaAeOT"
      },
      "source": [
        "### **Question 2 | Part C**: Statistical significance\r\n",
        "\r\n",
        "**Are the ages from the random and the first sample significantly different?** \r\n",
        "\r\n",
        "If we want to use t-test we must first check the assumptions:\r\n",
        "1. Samples are independent: No individual is in group A and B. This holds true given that the random sample was built excluding the first 100 rows.\r\n",
        "2. Population distributions are normal (Shapiro-Wilk test)\r\n",
        "3. Homegeneity of variance (Levene's test)\r\n",
        "\r\n",
        "Learn more about statistical test [here](https://www.graphpad.com/support/faqid/1790/)\r\n"
      ]
    },
    {
      "cell_type": "markdown",
      "metadata": {
        "id": "bws_p2bX18oW"
      },
      "source": [
        "**2.C.1** Run the Shapiro-Wilk test on the sampling differences (sample1 - sample2) to test if the population distributions are normal.\r\n",
        "\r\n"
      ]
    },
    {
      "cell_type": "code",
      "metadata": {
        "colab": {
          "base_uri": "https://localhost:8080/"
        },
        "id": "00bZmhtf9aSZ",
        "outputId": "a0a74488-62ae-4d84-88e5-c13abedb93be"
      },
      "source": [
        "# Population distributions are normal (Shapiro-Wilk test)\r\n",
        "sampling_difference = data_random - data_first\r\n",
        "w_statistic, p_value = stats.shapiro(sampling_difference)\r\n",
        "print(p_value)"
      ],
      "execution_count": 285,
      "outputs": [
        {
          "output_type": "stream",
          "text": [
            "0.4657280147075653\n"
          ],
          "name": "stdout"
        }
      ]
    },
    {
      "cell_type": "code",
      "metadata": {
        "colab": {
          "base_uri": "https://localhost:8080/",
          "height": 295
        },
        "id": "ddm42irY9zCY",
        "outputId": "18264629-428d-4e7e-8fdc-9d4c1c9a9437"
      },
      "source": [
        "normality_plot, stat = stats.probplot(sampling_difference, plot= plt, rvalue= True)\r\n",
        "ax.set_title(\"Probability plot of sampling difference\", fontsize= 20)\r\n",
        "plt.show()"
      ],
      "execution_count": 286,
      "outputs": [
        {
          "output_type": "display_data",
          "data": {
            "image/png": "[encoded data removed]",
            "text/plain": [
              "<Figure size 432x288 with 1 Axes>"
            ]
          },
          "metadata": {
            "tags": [],
            "needs_background": "light"
          }
        }
      ]
    },
    {
      "cell_type": "markdown",
      "metadata": {
        "id": "caO-pSEVBDxd"
      },
      "source": [
        "**2.C.2** Use Levene's test to check the homegeneity of variance"
      ]
    },
    {
      "cell_type": "code",
      "metadata": {
        "colab": {
          "base_uri": "https://localhost:8080/"
        },
        "id": "Y_DfUuoJ3xEa",
        "outputId": "17503c8e-fea7-4a1c-c49a-b73ad2bbeb59"
      },
      "source": [
        "# Homegeneity of variance (Levene's test)\r\n",
        "stats.levene(data_random,data_first,center= 'mean')"
      ],
      "execution_count": 287,
      "outputs": [
        {
          "output_type": "execute_result",
          "data": {
            "text/plain": [
              "LeveneResult(statistic=1.5317159208265065, pvalue=0.21732071998377078)"
            ]
          },
          "metadata": {
            "tags": []
          },
          "execution_count": 287
        }
      ]
    },
    {
      "cell_type": "markdown",
      "metadata": {
        "id": "xPQ_FhcMBVh6"
      },
      "source": [
        "**2.C.3** Test the statistical significance of both samples. Depending on the previous results, you might be able to use the T-test"
      ]
    },
    {
      "cell_type": "code",
      "metadata": {
        "colab": {
          "base_uri": "https://localhost:8080/"
        },
        "id": "gSpnxnRUwrpJ",
        "outputId": "82be5ff5-5714-4556-ce2c-47ccf30d1169"
      },
      "source": [
        "stats.ttest_ind(data_complete, data_first)"
      ],
      "execution_count": 288,
      "outputs": [
        {
          "output_type": "execute_result",
          "data": {
            "text/plain": [
              "Ttest_indResult(statistic=0.14032637231113737, pvalue=0.8884029937661627)"
            ]
          },
          "metadata": {
            "tags": []
          },
          "execution_count": 288
        }
      ]
    },
    {
      "cell_type": "markdown",
      "metadata": {
        "id": "VYmsd2rIBP5O"
      },
      "source": [
        "**2.C.4** Interpret your results"
      ]
    },
    {
      "cell_type": "markdown",
      "metadata": {
        "id": "Hs6aVMCfPk4k"
      },
      "source": [
        ""
      ]
    },
    {
      "cell_type": "markdown",
      "metadata": {
        "id": "oqB6Bq-XBtpx"
      },
      "source": [
        "**2.C.5** Repeat question 2 using samples of size 10 instead of 100. How do the results change? "
      ]
    },
    {
      "cell_type": "markdown",
      "metadata": {
        "id": "DXcA22y8rLs3"
      },
      "source": [
        "## **Question 3 | Data Visualization**\r\n",
        "\r\n",
        "For this question, you can use the entire dataset or just a sample. "
      ]
    },
    {
      "cell_type": "markdown",
      "metadata": {
        "id": "_Pc-KcgACULJ"
      },
      "source": [
        "### **Question 3 | Part A**: Data loading"
      ]
    },
    {
      "cell_type": "markdown",
      "metadata": {
        "id": "4a1NaW24DL4l"
      },
      "source": [
        "**3.A.1** Retrieve the column names from data/adult.names"
      ]
    },
    {
      "cell_type": "code",
      "metadata": {
        "colab": {
          "base_uri": "https://localhost:8080/"
        },
        "id": "knjOoy1PtY1W",
        "outputId": "9bfe7875-b37b-42b1-d501-73e97590984c"
      },
      "source": [
        "colnames = ! sed -n 97,112p  data/adult.names | \\\r\n",
        "awk -F\":\" '{ print $1 }' \r\n",
        "colnames"
      ],
      "execution_count": 244,
      "outputs": [
        {
          "output_type": "execute_result",
          "data": {
            "text/plain": [
              "['age',\n",
              " 'workclass',\n",
              " 'fnlwgt',\n",
              " 'education',\n",
              " 'education-num',\n",
              " 'marital-status',\n",
              " 'occupation',\n",
              " 'relationship',\n",
              " 'race',\n",
              " 'sex',\n",
              " 'capital-gain',\n",
              " 'capital-loss',\n",
              " 'hours-per-week',\n",
              " 'native-country']"
            ]
          },
          "metadata": {
            "tags": []
          },
          "execution_count": 244
        }
      ]
    },
    {
      "cell_type": "markdown",
      "metadata": {
        "id": "KogM5-ugDmRZ"
      },
      "source": [
        "**3.A.2** Load the dataset with the appropiate column names"
      ]
    },
    {
      "cell_type": "code",
      "metadata": {
        "id": "jtw3y5dADkzq"
      },
      "source": [
        "df = pd.read_csv(\"data/adult.data\",  names = colnames, index_col = False)"
      ],
      "execution_count": 295,
      "outputs": []
    },
    {
      "cell_type": "code",
      "metadata": {
        "colab": {
          "base_uri": "https://localhost:8080/",
          "height": 204
        },
        "id": "xxHeVD7GYlgO",
        "outputId": "04e87a4a-e8bc-4c7b-f2ae-daa20ecb544a"
      },
      "source": [
        "df.head()"
      ],
      "execution_count": 296,
      "outputs": [
        {
          "output_type": "execute_result",
          "data": {
            "text/html": [
              "<div>\n",
              "<style scoped>\n",
              "    .dataframe tbody tr th:only-of-type {\n",
              "        vertical-align: middle;\n",
              "    }\n",
              "\n",
              "    .dataframe tbody tr th {\n",
              "        vertical-align: top;\n",
              "    }\n",
              "\n",
              "    .dataframe thead th {\n",
              "        text-align: right;\n",
              "    }\n",
              "</style>\n",
              "<table border=\"1\" class=\"dataframe\">\n",
              "  <thead>\n",
              "    <tr style=\"text-align: right;\">\n",
              "      <th></th>\n",
              "      <th>age</th>\n",
              "      <th>workclass</th>\n",
              "      <th>fnlwgt</th>\n",
              "      <th>education</th>\n",
              "      <th>education-num</th>\n",
              "      <th>marital-status</th>\n",
              "      <th>occupation</th>\n",
              "      <th>relationship</th>\n",
              "      <th>race</th>\n",
              "      <th>sex</th>\n",
              "      <th>capital-gain</th>\n",
              "      <th>capital-loss</th>\n",
              "      <th>hours-per-week</th>\n",
              "      <th>native-country</th>\n",
              "    </tr>\n",
              "  </thead>\n",
              "  <tbody>\n",
              "    <tr>\n",
              "      <th>0</th>\n",
              "      <td>39</td>\n",
              "      <td>State-gov</td>\n",
              "      <td>77516</td>\n",
              "      <td>Bachelors</td>\n",
              "      <td>13</td>\n",
              "      <td>Never-married</td>\n",
              "      <td>Adm-clerical</td>\n",
              "      <td>Not-in-family</td>\n",
              "      <td>White</td>\n",
              "      <td>Male</td>\n",
              "      <td>2174</td>\n",
              "      <td>0</td>\n",
              "      <td>40</td>\n",
              "      <td>United-States</td>\n",
              "    </tr>\n",
              "    <tr>\n",
              "      <th>1</th>\n",
              "      <td>50</td>\n",
              "      <td>Self-emp-not-inc</td>\n",
              "      <td>83311</td>\n",
              "      <td>Bachelors</td>\n",
              "      <td>13</td>\n",
              "      <td>Married-civ-spouse</td>\n",
              "      <td>Exec-managerial</td>\n",
              "      <td>Husband</td>\n",
              "      <td>White</td>\n",
              "      <td>Male</td>\n",
              "      <td>0</td>\n",
              "      <td>0</td>\n",
              "      <td>13</td>\n",
              "      <td>United-States</td>\n",
              "    </tr>\n",
              "    <tr>\n",
              "      <th>2</th>\n",
              "      <td>38</td>\n",
              "      <td>Private</td>\n",
              "      <td>215646</td>\n",
              "      <td>HS-grad</td>\n",
              "      <td>9</td>\n",
              "      <td>Divorced</td>\n",
              "      <td>Handlers-cleaners</td>\n",
              "      <td>Not-in-family</td>\n",
              "      <td>White</td>\n",
              "      <td>Male</td>\n",
              "      <td>0</td>\n",
              "      <td>0</td>\n",
              "      <td>40</td>\n",
              "      <td>United-States</td>\n",
              "    </tr>\n",
              "    <tr>\n",
              "      <th>3</th>\n",
              "      <td>53</td>\n",
              "      <td>Private</td>\n",
              "      <td>234721</td>\n",
              "      <td>11th</td>\n",
              "      <td>7</td>\n",
              "      <td>Married-civ-spouse</td>\n",
              "      <td>Handlers-cleaners</td>\n",
              "      <td>Husband</td>\n",
              "      <td>Black</td>\n",
              "      <td>Male</td>\n",
              "      <td>0</td>\n",
              "      <td>0</td>\n",
              "      <td>40</td>\n",
              "      <td>United-States</td>\n",
              "    </tr>\n",
              "    <tr>\n",
              "      <th>4</th>\n",
              "      <td>28</td>\n",
              "      <td>Private</td>\n",
              "      <td>338409</td>\n",
              "      <td>Bachelors</td>\n",
              "      <td>13</td>\n",
              "      <td>Married-civ-spouse</td>\n",
              "      <td>Prof-specialty</td>\n",
              "      <td>Wife</td>\n",
              "      <td>Black</td>\n",
              "      <td>Female</td>\n",
              "      <td>0</td>\n",
              "      <td>0</td>\n",
              "      <td>40</td>\n",
              "      <td>Cuba</td>\n",
              "    </tr>\n",
              "  </tbody>\n",
              "</table>\n",
              "</div>"
            ],
            "text/plain": [
              "   age          workclass  fnlwgt  ... capital-loss  hours-per-week  native-country\n",
              "0   39          State-gov   77516  ...            0              40   United-States\n",
              "1   50   Self-emp-not-inc   83311  ...            0              13   United-States\n",
              "2   38            Private  215646  ...            0              40   United-States\n",
              "3   53            Private  234721  ...            0              40   United-States\n",
              "4   28            Private  338409  ...            0              40            Cuba\n",
              "\n",
              "[5 rows x 14 columns]"
            ]
          },
          "metadata": {
            "tags": []
          },
          "execution_count": 296
        }
      ]
    },
    {
      "cell_type": "markdown",
      "metadata": {
        "id": "xVPm_H1nEyjE"
      },
      "source": [
        "**3.A.3** Create a sub dataframe (df_numerical) with all the numerical features. "
      ]
    },
    {
      "cell_type": "code",
      "metadata": {
        "id": "Unx4NMTUFwiY"
      },
      "source": [
        "df_numerical = df.select_dtypes([np.int64])"
      ],
      "execution_count": 298,
      "outputs": []
    },
    {
      "cell_type": "markdown",
      "metadata": {
        "id": "iY_DBlEGQemJ"
      },
      "source": [
        "### **Question 3 | Part B**: Numerical features"
      ]
    },
    {
      "cell_type": "code",
      "metadata": {
        "colab": {
          "base_uri": "https://localhost:8080/",
          "height": 1000
        },
        "id": "kAiMjn4KQyF2",
        "outputId": "c79ae0d3-9818-4e1f-c361-a0e44fcfe9d4"
      },
      "source": [
        "sns.pairplot(df_numerical,  hue=\"education\")"
      ],
      "execution_count": 302,
      "outputs": [
        {
          "output_type": "error",
          "ename": "KeyError",
          "evalue": "ignored",
          "traceback": [
            "\u001b[0;31m---------------------------------------------------------------------------\u001b[0m",
            "\u001b[0;31mKeyError\u001b[0m                                  Traceback (most recent call last)",
            "\u001b[0;32m/usr/local/lib/python3.6/dist-packages/pandas/core/indexes/base.py\u001b[0m in \u001b[0;36mget_loc\u001b[0;34m(self, key, method, tolerance)\u001b[0m\n\u001b[1;32m   2897\u001b[0m             \u001b[0;32mtry\u001b[0m\u001b[0;34m:\u001b[0m\u001b[0;34m\u001b[0m\u001b[0;34m\u001b[0m\u001b[0m\n\u001b[0;32m-> 2898\u001b[0;31m                 \u001b[0;32mreturn\u001b[0m \u001b[0mself\u001b[0m\u001b[0;34m.\u001b[0m\u001b[0m_engine\u001b[0m\u001b[0;34m.\u001b[0m\u001b[0mget_loc\u001b[0m\u001b[0;34m(\u001b[0m\u001b[0mcasted_key\u001b[0m\u001b[0;34m)\u001b[0m\u001b[0;34m\u001b[0m\u001b[0;34m\u001b[0m\u001b[0m\n\u001b[0m\u001b[1;32m   2899\u001b[0m             \u001b[0;32mexcept\u001b[0m \u001b[0mKeyError\u001b[0m \u001b[0;32mas\u001b[0m \u001b[0merr\u001b[0m\u001b[0;34m:\u001b[0m\u001b[0;34m\u001b[0m\u001b[0;34m\u001b[0m\u001b[0m\n",
            "\u001b[0;32mpandas/_libs/index.pyx\u001b[0m in \u001b[0;36mpandas._libs.index.IndexEngine.get_loc\u001b[0;34m()\u001b[0m\n",
            "\u001b[0;32mpandas/_libs/index.pyx\u001b[0m in \u001b[0;36mpandas._libs.index.IndexEngine.get_loc\u001b[0;34m()\u001b[0m\n",
            "\u001b[0;32mpandas/_libs/hashtable_class_helper.pxi\u001b[0m in \u001b[0;36mpandas._libs.hashtable.PyObjectHashTable.get_item\u001b[0;34m()\u001b[0m\n",
            "\u001b[0;32mpandas/_libs/hashtable_class_helper.pxi\u001b[0m in \u001b[0;36mpandas._libs.hashtable.PyObjectHashTable.get_item\u001b[0;34m()\u001b[0m\n",
            "\u001b[0;31mKeyError\u001b[0m: 'education'",
            "\nThe above exception was the direct cause of the following exception:\n",
            "\u001b[0;31mKeyError\u001b[0m                                  Traceback (most recent call last)",
            "\u001b[0;32m<ipython-input-302-a99d15e666fc>\u001b[0m in \u001b[0;36m<module>\u001b[0;34m()\u001b[0m\n\u001b[0;32m----> 1\u001b[0;31m \u001b[0msns\u001b[0m\u001b[0;34m.\u001b[0m\u001b[0mpairplot\u001b[0m\u001b[0;34m(\u001b[0m\u001b[0mdf_numerical\u001b[0m\u001b[0;34m,\u001b[0m  \u001b[0mhue\u001b[0m\u001b[0;34m=\u001b[0m\u001b[0;34m\"education\"\u001b[0m\u001b[0;34m)\u001b[0m\u001b[0;34m\u001b[0m\u001b[0;34m\u001b[0m\u001b[0m\n\u001b[0m",
            "\u001b[0;32m/usr/local/lib/python3.6/dist-packages/seaborn/_decorators.py\u001b[0m in \u001b[0;36minner_f\u001b[0;34m(*args, **kwargs)\u001b[0m\n\u001b[1;32m     44\u001b[0m             )\n\u001b[1;32m     45\u001b[0m         \u001b[0mkwargs\u001b[0m\u001b[0;34m.\u001b[0m\u001b[0mupdate\u001b[0m\u001b[0;34m(\u001b[0m\u001b[0;34m{\u001b[0m\u001b[0mk\u001b[0m\u001b[0;34m:\u001b[0m \u001b[0marg\u001b[0m \u001b[0;32mfor\u001b[0m \u001b[0mk\u001b[0m\u001b[0;34m,\u001b[0m \u001b[0marg\u001b[0m \u001b[0;32min\u001b[0m \u001b[0mzip\u001b[0m\u001b[0;34m(\u001b[0m\u001b[0msig\u001b[0m\u001b[0;34m.\u001b[0m\u001b[0mparameters\u001b[0m\u001b[0;34m,\u001b[0m \u001b[0margs\u001b[0m\u001b[0;34m)\u001b[0m\u001b[0;34m}\u001b[0m\u001b[0;34m)\u001b[0m\u001b[0;34m\u001b[0m\u001b[0;34m\u001b[0m\u001b[0m\n\u001b[0;32m---> 46\u001b[0;31m         \u001b[0;32mreturn\u001b[0m \u001b[0mf\u001b[0m\u001b[0;34m(\u001b[0m\u001b[0;34m**\u001b[0m\u001b[0mkwargs\u001b[0m\u001b[0;34m)\u001b[0m\u001b[0;34m\u001b[0m\u001b[0;34m\u001b[0m\u001b[0m\n\u001b[0m\u001b[1;32m     47\u001b[0m     \u001b[0;32mreturn\u001b[0m \u001b[0minner_f\u001b[0m\u001b[0;34m\u001b[0m\u001b[0;34m\u001b[0m\u001b[0m\n\u001b[1;32m     48\u001b[0m \u001b[0;34m\u001b[0m\u001b[0m\n",
            "\u001b[0;32m/usr/local/lib/python3.6/dist-packages/seaborn/axisgrid.py\u001b[0m in \u001b[0;36mpairplot\u001b[0;34m(data, hue, hue_order, palette, vars, x_vars, y_vars, kind, diag_kind, markers, height, aspect, corner, dropna, plot_kws, diag_kws, grid_kws, size)\u001b[0m\n\u001b[1;32m   1989\u001b[0m     grid = PairGrid(data, vars=vars, x_vars=x_vars, y_vars=y_vars, hue=hue,\n\u001b[1;32m   1990\u001b[0m                     \u001b[0mhue_order\u001b[0m\u001b[0;34m=\u001b[0m\u001b[0mhue_order\u001b[0m\u001b[0;34m,\u001b[0m \u001b[0mpalette\u001b[0m\u001b[0;34m=\u001b[0m\u001b[0mpalette\u001b[0m\u001b[0;34m,\u001b[0m \u001b[0mcorner\u001b[0m\u001b[0;34m=\u001b[0m\u001b[0mcorner\u001b[0m\u001b[0;34m,\u001b[0m\u001b[0;34m\u001b[0m\u001b[0;34m\u001b[0m\u001b[0m\n\u001b[0;32m-> 1991\u001b[0;31m                     height=height, aspect=aspect, dropna=dropna, **grid_kws)\n\u001b[0m\u001b[1;32m   1992\u001b[0m \u001b[0;34m\u001b[0m\u001b[0m\n\u001b[1;32m   1993\u001b[0m     \u001b[0;31m# Add the markers here as PairGrid has figured out how many levels of the\u001b[0m\u001b[0;34m\u001b[0m\u001b[0;34m\u001b[0m\u001b[0;34m\u001b[0m\u001b[0m\n",
            "\u001b[0;32m/usr/local/lib/python3.6/dist-packages/seaborn/_decorators.py\u001b[0m in \u001b[0;36minner_f\u001b[0;34m(*args, **kwargs)\u001b[0m\n\u001b[1;32m     44\u001b[0m             )\n\u001b[1;32m     45\u001b[0m         \u001b[0mkwargs\u001b[0m\u001b[0;34m.\u001b[0m\u001b[0mupdate\u001b[0m\u001b[0;34m(\u001b[0m\u001b[0;34m{\u001b[0m\u001b[0mk\u001b[0m\u001b[0;34m:\u001b[0m \u001b[0marg\u001b[0m \u001b[0;32mfor\u001b[0m \u001b[0mk\u001b[0m\u001b[0;34m,\u001b[0m \u001b[0marg\u001b[0m \u001b[0;32min\u001b[0m \u001b[0mzip\u001b[0m\u001b[0;34m(\u001b[0m\u001b[0msig\u001b[0m\u001b[0;34m.\u001b[0m\u001b[0mparameters\u001b[0m\u001b[0;34m,\u001b[0m \u001b[0margs\u001b[0m\u001b[0;34m)\u001b[0m\u001b[0;34m}\u001b[0m\u001b[0;34m)\u001b[0m\u001b[0;34m\u001b[0m\u001b[0;34m\u001b[0m\u001b[0m\n\u001b[0;32m---> 46\u001b[0;31m         \u001b[0;32mreturn\u001b[0m \u001b[0mf\u001b[0m\u001b[0;34m(\u001b[0m\u001b[0;34m**\u001b[0m\u001b[0mkwargs\u001b[0m\u001b[0;34m)\u001b[0m\u001b[0;34m\u001b[0m\u001b[0;34m\u001b[0m\u001b[0m\n\u001b[0m\u001b[1;32m     47\u001b[0m     \u001b[0;32mreturn\u001b[0m \u001b[0minner_f\u001b[0m\u001b[0;34m\u001b[0m\u001b[0;34m\u001b[0m\u001b[0m\n\u001b[1;32m     48\u001b[0m \u001b[0;34m\u001b[0m\u001b[0m\n",
            "\u001b[0;32m/usr/local/lib/python3.6/dist-packages/seaborn/axisgrid.py\u001b[0m in \u001b[0;36m__init__\u001b[0;34m(self, data, hue, hue_order, palette, hue_kws, vars, x_vars, y_vars, corner, diag_sharey, height, aspect, layout_pad, despine, dropna, size)\u001b[0m\n\u001b[1;32m   1227\u001b[0m             \u001b[0;31m# to the axes-level functions, while always handling legend creation.\u001b[0m\u001b[0;34m\u001b[0m\u001b[0;34m\u001b[0m\u001b[0;34m\u001b[0m\u001b[0m\n\u001b[1;32m   1228\u001b[0m             \u001b[0;31m# See GH2307\u001b[0m\u001b[0;34m\u001b[0m\u001b[0;34m\u001b[0m\u001b[0;34m\u001b[0m\u001b[0m\n\u001b[0;32m-> 1229\u001b[0;31m             \u001b[0mhue_names\u001b[0m \u001b[0;34m=\u001b[0m \u001b[0mhue_order\u001b[0m \u001b[0;34m=\u001b[0m \u001b[0mcategorical_order\u001b[0m\u001b[0;34m(\u001b[0m\u001b[0mdata\u001b[0m\u001b[0;34m[\u001b[0m\u001b[0mhue\u001b[0m\u001b[0;34m]\u001b[0m\u001b[0;34m,\u001b[0m \u001b[0mhue_order\u001b[0m\u001b[0;34m)\u001b[0m\u001b[0;34m\u001b[0m\u001b[0;34m\u001b[0m\u001b[0m\n\u001b[0m\u001b[1;32m   1230\u001b[0m             \u001b[0;32mif\u001b[0m \u001b[0mdropna\u001b[0m\u001b[0;34m:\u001b[0m\u001b[0;34m\u001b[0m\u001b[0;34m\u001b[0m\u001b[0m\n\u001b[1;32m   1231\u001b[0m                 \u001b[0;31m# Filter NA from the list of unique hue names\u001b[0m\u001b[0;34m\u001b[0m\u001b[0;34m\u001b[0m\u001b[0;34m\u001b[0m\u001b[0m\n",
            "\u001b[0;32m/usr/local/lib/python3.6/dist-packages/pandas/core/frame.py\u001b[0m in \u001b[0;36m__getitem__\u001b[0;34m(self, key)\u001b[0m\n\u001b[1;32m   2904\u001b[0m             \u001b[0;32mif\u001b[0m \u001b[0mself\u001b[0m\u001b[0;34m.\u001b[0m\u001b[0mcolumns\u001b[0m\u001b[0;34m.\u001b[0m\u001b[0mnlevels\u001b[0m \u001b[0;34m>\u001b[0m \u001b[0;36m1\u001b[0m\u001b[0;34m:\u001b[0m\u001b[0;34m\u001b[0m\u001b[0;34m\u001b[0m\u001b[0m\n\u001b[1;32m   2905\u001b[0m                 \u001b[0;32mreturn\u001b[0m \u001b[0mself\u001b[0m\u001b[0;34m.\u001b[0m\u001b[0m_getitem_multilevel\u001b[0m\u001b[0;34m(\u001b[0m\u001b[0mkey\u001b[0m\u001b[0;34m)\u001b[0m\u001b[0;34m\u001b[0m\u001b[0;34m\u001b[0m\u001b[0m\n\u001b[0;32m-> 2906\u001b[0;31m             \u001b[0mindexer\u001b[0m \u001b[0;34m=\u001b[0m \u001b[0mself\u001b[0m\u001b[0;34m.\u001b[0m\u001b[0mcolumns\u001b[0m\u001b[0;34m.\u001b[0m\u001b[0mget_loc\u001b[0m\u001b[0;34m(\u001b[0m\u001b[0mkey\u001b[0m\u001b[0;34m)\u001b[0m\u001b[0;34m\u001b[0m\u001b[0;34m\u001b[0m\u001b[0m\n\u001b[0m\u001b[1;32m   2907\u001b[0m             \u001b[0;32mif\u001b[0m \u001b[0mis_integer\u001b[0m\u001b[0;34m(\u001b[0m\u001b[0mindexer\u001b[0m\u001b[0;34m)\u001b[0m\u001b[0;34m:\u001b[0m\u001b[0;34m\u001b[0m\u001b[0;34m\u001b[0m\u001b[0m\n\u001b[1;32m   2908\u001b[0m                 \u001b[0mindexer\u001b[0m \u001b[0;34m=\u001b[0m \u001b[0;34m[\u001b[0m\u001b[0mindexer\u001b[0m\u001b[0;34m]\u001b[0m\u001b[0;34m\u001b[0m\u001b[0;34m\u001b[0m\u001b[0m\n",
            "\u001b[0;32m/usr/local/lib/python3.6/dist-packages/pandas/core/indexes/base.py\u001b[0m in \u001b[0;36mget_loc\u001b[0;34m(self, key, method, tolerance)\u001b[0m\n\u001b[1;32m   2898\u001b[0m                 \u001b[0;32mreturn\u001b[0m \u001b[0mself\u001b[0m\u001b[0;34m.\u001b[0m\u001b[0m_engine\u001b[0m\u001b[0;34m.\u001b[0m\u001b[0mget_loc\u001b[0m\u001b[0;34m(\u001b[0m\u001b[0mcasted_key\u001b[0m\u001b[0;34m)\u001b[0m\u001b[0;34m\u001b[0m\u001b[0;34m\u001b[0m\u001b[0m\n\u001b[1;32m   2899\u001b[0m             \u001b[0;32mexcept\u001b[0m \u001b[0mKeyError\u001b[0m \u001b[0;32mas\u001b[0m \u001b[0merr\u001b[0m\u001b[0;34m:\u001b[0m\u001b[0;34m\u001b[0m\u001b[0;34m\u001b[0m\u001b[0m\n\u001b[0;32m-> 2900\u001b[0;31m                 \u001b[0;32mraise\u001b[0m \u001b[0mKeyError\u001b[0m\u001b[0;34m(\u001b[0m\u001b[0mkey\u001b[0m\u001b[0;34m)\u001b[0m \u001b[0;32mfrom\u001b[0m \u001b[0merr\u001b[0m\u001b[0;34m\u001b[0m\u001b[0;34m\u001b[0m\u001b[0m\n\u001b[0m\u001b[1;32m   2901\u001b[0m \u001b[0;34m\u001b[0m\u001b[0m\n\u001b[1;32m   2902\u001b[0m         \u001b[0;32mif\u001b[0m \u001b[0mtolerance\u001b[0m \u001b[0;32mis\u001b[0m \u001b[0;32mnot\u001b[0m \u001b[0;32mNone\u001b[0m\u001b[0;34m:\u001b[0m\u001b[0;34m\u001b[0m\u001b[0;34m\u001b[0m\u001b[0m\n",
            "\u001b[0;31mKeyError\u001b[0m: 'education'"
          ]
        },
        {
          "output_type": "display_data",
          "data": {
            "image/png": "[encoded data removed]",
            "text/plain": [
              "<Figure size 1080x1080 with 36 Axes>"
            ]
          },
          "metadata": {
            "tags": [],
            "needs_background": "light"
          }
        }
      ]
    },
    {
      "cell_type": "code",
      "metadata": {
        "id": "8EydeCAvRppV"
      },
      "source": [
        "df = pd.read_csv('data/e-shop clothing 2008.csv', delimiter=';')"
      ],
      "execution_count": null,
      "outputs": []
    },
    {
      "cell_type": "code",
      "metadata": {
        "colab": {
          "base_uri": "https://localhost:8080/",
          "height": 204
        },
        "id": "wzB9IinURvWj",
        "outputId": "5c373aa0-3ac6-4cdb-8fdd-958b45495236"
      },
      "source": [
        "df.head()"
      ],
      "execution_count": null,
      "outputs": [
        {
          "output_type": "execute_result",
          "data": {
            "text/html": [
              "<div>\n",
              "<style scoped>\n",
              "    .dataframe tbody tr th:only-of-type {\n",
              "        vertical-align: middle;\n",
              "    }\n",
              "\n",
              "    .dataframe tbody tr th {\n",
              "        vertical-align: top;\n",
              "    }\n",
              "\n",
              "    .dataframe thead th {\n",
              "        text-align: right;\n",
              "    }\n",
              "</style>\n",
              "<table border=\"1\" class=\"dataframe\">\n",
              "  <thead>\n",
              "    <tr style=\"text-align: right;\">\n",
              "      <th></th>\n",
              "      <th>year</th>\n",
              "      <th>month</th>\n",
              "      <th>day</th>\n",
              "      <th>order</th>\n",
              "      <th>country</th>\n",
              "      <th>session ID</th>\n",
              "      <th>page 1 (main category)</th>\n",
              "      <th>page 2 (clothing model)</th>\n",
              "      <th>colour</th>\n",
              "      <th>location</th>\n",
              "      <th>model photography</th>\n",
              "      <th>price</th>\n",
              "      <th>price 2</th>\n",
              "      <th>page</th>\n",
              "    </tr>\n",
              "  </thead>\n",
              "  <tbody>\n",
              "    <tr>\n",
              "      <th>0</th>\n",
              "      <td>2008</td>\n",
              "      <td>4</td>\n",
              "      <td>1</td>\n",
              "      <td>1</td>\n",
              "      <td>29</td>\n",
              "      <td>1</td>\n",
              "      <td>1</td>\n",
              "      <td>A13</td>\n",
              "      <td>1</td>\n",
              "      <td>5</td>\n",
              "      <td>1</td>\n",
              "      <td>28</td>\n",
              "      <td>2</td>\n",
              "      <td>1</td>\n",
              "    </tr>\n",
              "    <tr>\n",
              "      <th>1</th>\n",
              "      <td>2008</td>\n",
              "      <td>4</td>\n",
              "      <td>1</td>\n",
              "      <td>2</td>\n",
              "      <td>29</td>\n",
              "      <td>1</td>\n",
              "      <td>1</td>\n",
              "      <td>A16</td>\n",
              "      <td>1</td>\n",
              "      <td>6</td>\n",
              "      <td>1</td>\n",
              "      <td>33</td>\n",
              "      <td>2</td>\n",
              "      <td>1</td>\n",
              "    </tr>\n",
              "    <tr>\n",
              "      <th>2</th>\n",
              "      <td>2008</td>\n",
              "      <td>4</td>\n",
              "      <td>1</td>\n",
              "      <td>3</td>\n",
              "      <td>29</td>\n",
              "      <td>1</td>\n",
              "      <td>2</td>\n",
              "      <td>B4</td>\n",
              "      <td>10</td>\n",
              "      <td>2</td>\n",
              "      <td>1</td>\n",
              "      <td>52</td>\n",
              "      <td>1</td>\n",
              "      <td>1</td>\n",
              "    </tr>\n",
              "    <tr>\n",
              "      <th>3</th>\n",
              "      <td>2008</td>\n",
              "      <td>4</td>\n",
              "      <td>1</td>\n",
              "      <td>4</td>\n",
              "      <td>29</td>\n",
              "      <td>1</td>\n",
              "      <td>2</td>\n",
              "      <td>B17</td>\n",
              "      <td>6</td>\n",
              "      <td>6</td>\n",
              "      <td>2</td>\n",
              "      <td>38</td>\n",
              "      <td>2</td>\n",
              "      <td>1</td>\n",
              "    </tr>\n",
              "    <tr>\n",
              "      <th>4</th>\n",
              "      <td>2008</td>\n",
              "      <td>4</td>\n",
              "      <td>1</td>\n",
              "      <td>5</td>\n",
              "      <td>29</td>\n",
              "      <td>1</td>\n",
              "      <td>2</td>\n",
              "      <td>B8</td>\n",
              "      <td>4</td>\n",
              "      <td>3</td>\n",
              "      <td>2</td>\n",
              "      <td>52</td>\n",
              "      <td>1</td>\n",
              "      <td>1</td>\n",
              "    </tr>\n",
              "  </tbody>\n",
              "</table>\n",
              "</div>"
            ],
            "text/plain": [
              "   year  month  day  order  ...  model photography  price  price 2 page\n",
              "0  2008      4    1      1  ...                  1     28        2    1\n",
              "1  2008      4    1      2  ...                  1     33        2    1\n",
              "2  2008      4    1      3  ...                  1     52        1    1\n",
              "3  2008      4    1      4  ...                  2     38        2    1\n",
              "4  2008      4    1      5  ...                  2     52        1    1\n",
              "\n",
              "[5 rows x 14 columns]"
            ]
          },
          "metadata": {
            "tags": []
          },
          "execution_count": 15
        }
      ]
    }
  ]
}